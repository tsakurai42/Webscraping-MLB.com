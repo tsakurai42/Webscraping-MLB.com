{
 "cells": [
  {
   "cell_type": "code",
   "execution_count": 32,
   "metadata": {},
   "outputs": [],
   "source": [
    "import pandas as pd\n",
    "import sqlalchemy\n",
    "import requests\n",
    "from bs4 import BeautifulSoup\n",
    "from splinter import Browser\n",
    "import time\n",
    "import pymongo\n",
    "\n",
    "executable_path = {'executable_path': 'chromedriver.exe'}\n",
    "#browser = Browser('chrome', **executable_path, headless=False)\n",
    "\n",
    "conn = 'mongodb://localhost:27017'\n",
    "client = pymongo.MongoClient(conn)\n",
    "db = client.mlbDB"
   ]
  },
  {
   "cell_type": "code",
   "execution_count": 33,
   "metadata": {},
   "outputs": [],
   "source": [
    "get_url = 'https://www.mlb.com/'\n",
    "html = requests.get(get_url)\n",
    "soup = BeautifulSoup(html.text, 'html.parser')\n",
    "#soup.prettify()"
   ]
  },
  {
   "cell_type": "markdown",
   "metadata": {},
   "source": [
    "# top headlines on mlb.com"
   ]
  },
  {
   "cell_type": "code",
   "execution_count": 34,
   "metadata": {},
   "outputs": [
    {
     "name": "stdout",
     "output_type": "stream",
     "text": [
      "[{'headline': 'Chavis delivers walk-off hit for Red Sox in 10th', 'headline_url': 'https://www.mlb.com/news/red-sox-walk-it-off-against-rockies'}, {'headline': \"JV tames familiar foe in Astros' 8th straight win\", 'headline_url': 'https://www.mlb.com/news/justin-verlander-astros-win-eighth-straight'}, {'headline': \"Puig, Reds stun Cubs for 1st walk-off win of '19\", 'headline_url': 'https://www.mlb.com/news/reds-defeat-cubs-on-yasiel-s-puig-walk-off-hit'}, {'headline': 'Story exits game in Boston after collision', 'headline_url': 'https://www.mlb.com/news/trevor-story-exits-game-after-collision'}, {'headline': 'Mondesi goes above and beyond to turn DP', 'headline_url': 'https://www.mlb.com/news/adalberto-mondesi-turns-great-double-play'}, {'headline': 'Andujar to have season-ending shoulder surgery', 'headline_url': 'https://www.mlb.com/news/miguel-andujar-to-have-season-ending-surgery'}, {'headline': 'Braves prospect Riley homers in 2nd MLB AB', 'headline_url': 'https://www.mlb.com/news/austin-riley-homers-in-mlb-debut'}, {'headline': \"Gleyber's 3-homer day powers twin-bill sweep\", 'headline_url': 'https://www.mlb.com/news/gleyber-torres-hits-another-homer-vs-orioles'}, {'headline': 'Gio sharp again as Brewers down Phillies', 'headline_url': 'https://www.mlb.com/news/gio-gonzalez-stays-solid-as-brewers-beat-phillies'}, {'headline': 'Inbox: Looking ahead to the 2019 Draft', 'headline_url': 'https://www.mlb.com/news/looking-ahead-to-2019-mlb-draft'}]\n"
     ]
    }
   ],
   "source": [
    "top_headlines = []\n",
    "results = soup.select('div.l-grid div.p-headline-stack')\n",
    "#there are three div.p-headline-stack s, but index 0 and 2 are hidden ones that don't contain the same articles.\n",
    "#index 1 is for xs and sm, index 3 is for md, lg, xl and I used index 3. code works the same with index 1.\n",
    "for result in results[3].select('li.p-headline-stack__headline'):\n",
    "    if result.a['href'][:24] == 'https://www.mlb.com/news':\n",
    "        #some news articles link to mlb.com/cut4 which has a completely different layout for the next part\n",
    "        #so i just dropped those articles\n",
    "        top_headlines.append({'headline':result.text, 'headline_url':result.a['href']})\n",
    "print(top_headlines)"
   ]
  },
  {
   "cell_type": "markdown",
   "metadata": {},
   "source": [
    "# parse top headline articles and pull player names and IDs and add to prior dictionary"
   ]
  },
  {
   "cell_type": "code",
   "execution_count": 35,
   "metadata": {},
   "outputs": [
    {
     "name": "stdout",
     "output_type": "stream",
     "text": [
      "[{'headline': 'Chavis delivers walk-off hit for Red Sox in 10th', 'headline_url': 'https://www.mlb.com/news/red-sox-walk-it-off-against-rockies', 'players_in_article': [{'player_name': 'Michael Chavis', 'player_id': '656308'}]}, {'headline': \"JV tames familiar foe in Astros' 8th straight win\", 'headline_url': 'https://www.mlb.com/news/justin-verlander-astros-win-eighth-straight', 'players_in_article': [{'player_name': 'Justin Verlander', 'player_id': '434378'}]}, {'headline': \"Puig, Reds stun Cubs for 1st walk-off win of '19\", 'headline_url': 'https://www.mlb.com/news/reds-defeat-cubs-on-yasiel-s-puig-walk-off-hit', 'players_in_article': [{'player_name': 'Yasiel Puig', 'player_id': '624577'}]}, {'headline': 'Story exits game in Boston after collision', 'headline_url': 'https://www.mlb.com/news/trevor-story-exits-game-after-collision', 'players_in_article': [{'player_name': 'Trevor Story', 'player_id': '596115'}, {'player_name': 'Raimel Tapia', 'player_id': '606132'}, {'player_name': 'Pat Valaika', 'player_id': '642162'}]}, {'headline': 'Mondesi goes above and beyond to turn DP', 'headline_url': 'https://www.mlb.com/news/adalberto-mondesi-turns-great-double-play', 'players_in_article': []}, {'headline': 'Andujar to have season-ending shoulder surgery', 'headline_url': 'https://www.mlb.com/news/miguel-andujar-to-have-season-ending-surgery', 'players_in_article': [{'player_name': 'Miguel Andújar', 'player_id': '609280'}]}, {'headline': 'Braves prospect Riley homers in 2nd MLB AB', 'headline_url': 'https://www.mlb.com/news/austin-riley-homers-in-mlb-debut', 'players_in_article': [{'player_name': 'Mike Soroka', 'player_id': '647336'}, {'player_name': 'Austin Riley', 'player_id': '663586'}]}, {'headline': \"Gleyber's 3-homer day powers twin-bill sweep\", 'headline_url': 'https://www.mlb.com/news/gleyber-torres-hits-another-homer-vs-orioles', 'players_in_article': []}, {'headline': 'Gio sharp again as Brewers down Phillies', 'headline_url': 'https://www.mlb.com/news/gio-gonzalez-stays-solid-as-brewers-beat-phillies', 'players_in_article': [{'player_name': 'Gio Gonzalez', 'player_id': '461829'}, {'player_name': 'Ryan Braun', 'player_id': '460075'}, {'player_name': 'Jesús Aguilar', 'player_id': '542583'}, {'player_name': 'Mike Moustakas', 'player_id': '519058'}, {'player_name': 'Jeremy Jeffress', 'player_id': '502026'}, {'player_name': 'Zach Davies', 'player_id': '605200'}]}, {'headline': 'Inbox: Looking ahead to the 2019 Draft', 'headline_url': 'https://www.mlb.com/news/looking-ahead-to-2019-mlb-draft', 'players_in_article': []}]\n"
     ]
    }
   ],
   "source": [
    "browser = Browser('chrome', **executable_path, headless=False)\n",
    "#i = 0\n",
    "for i, each_article in enumerate(top_headlines):\n",
    "    get_url = each_article['headline_url']\n",
    "#     html = requests.get(get_url)\n",
    "#     soup = BeautifulSoup(html.text, 'html.parser')\n",
    "# had to use chromedriver because for some articles, the player names were linked in <a href> but others,\n",
    "# the request would get <forge-entity> that would be converted to <a> after it had already 'requests.get'-ed\n",
    "    \n",
    "    browser.visit(get_url)\n",
    "\n",
    "    while True:\n",
    "        html = browser.html\n",
    "        soup = BeautifulSoup(html,'html.parser')\n",
    "        try:\n",
    "            results = soup.select('div.template-article__content div.article-item__body')\n",
    "            break\n",
    "        except:\n",
    "            time.sleep(0.5)\n",
    "    \n",
    "    article_info = []\n",
    "    #within the body of the first (index=0) article (because this page will load multiple articles)\n",
    "    articlebody_results = results[0].select('p a')\n",
    "    #find any link\n",
    "    for each_link in articlebody_results:\n",
    "        #and if the article links to a player page...\n",
    "        if each_link['href'][:27] == 'https://www.mlb.com/player/':\n",
    "            #add their name and their player id (last 6 characters of url)\n",
    "            #seems mlb.com content writers are good about listing full name when they link a player\n",
    "            #so going to the page and pulling their name or using the API to pull their name is unnecessary\n",
    "            #some articles don't properly link a player to their player page on first mention, but oh well.\n",
    "            article_info.append({'player_name':each_link.text, 'player_id':each_link['href'][-6:]})\n",
    "    #print(article_info)\n",
    "    top_headlines[i]['players_in_article'] = article_info\n",
    "    #needed a counter, i, to correctly add the name-list to the correct article\n",
    "    #i += 1\n",
    "browser.quit()\n",
    "print(top_headlines)"
   ]
  },
  {
   "cell_type": "code",
   "execution_count": 36,
   "metadata": {},
   "outputs": [],
   "source": [
    "db.top_headlines.drop() #drop since i want it fresh each time it's added to db"
   ]
  },
  {
   "cell_type": "code",
   "execution_count": 37,
   "metadata": {},
   "outputs": [
    {
     "data": {
      "text/plain": [
       "<pymongo.results.InsertManyResult at 0x210d591f6c8>"
      ]
     },
     "execution_count": 37,
     "metadata": {},
     "output_type": "execute_result"
    }
   ],
   "source": [
    "# for each_headline in top_headlines:\n",
    "#     db.top_headlines.insert_one(each_headline)\n",
    "db.top_headlines.insert_many(top_headlines)\n",
    "#used a for loop for insert_one, but insert_many works on a list of dictionaries, so why not just use that."
   ]
  },
  {
   "cell_type": "markdown",
   "metadata": {},
   "source": [
    "# top most rockies headline, URL, referenced player names and IDs"
   ]
  },
  {
   "cell_type": "code",
   "execution_count": 78,
   "metadata": {},
   "outputs": [
    {
     "name": "stdout",
     "output_type": "stream",
     "text": [
      "{'headline': 'Iannetta, Oberg spend rare off-day at home', 'headline_url': 'https://www.mlb.com/rockies/news/chris-iannetta-scott-oberg-off-days-at-home'}\n"
     ]
    }
   ],
   "source": [
    "get_url = 'https://www.mlb.com/rockies'\n",
    "html = requests.get(get_url)\n",
    "soup = BeautifulSoup(html.text, 'html.parser')\n",
    "#top_cr_headline = []\n",
    "results = soup.select('div.l-grid div.p-headline-stack')\n",
    "top_result = results[3].select('li.p-headline-stack__headline')[0]\n",
    "top_cr_headline = {'headline':top_result.text.strip(), 'headline_url':top_result.a['href']}\n",
    "print(top_cr_headline)"
   ]
  },
  {
   "cell_type": "code",
   "execution_count": 79,
   "metadata": {},
   "outputs": [
    {
     "name": "stdout",
     "output_type": "stream",
     "text": [
      "{'headline': 'Iannetta, Oberg spend rare off-day at home', 'headline_url': 'https://www.mlb.com/rockies/news/chris-iannetta-scott-oberg-off-days-at-home', 'players_in_article': [{'player_name': 'Chris Iannetta', 'player_id': '455104'}, {'player_name': 'Scott Oberg', 'player_id': '623184'}]}\n"
     ]
    }
   ],
   "source": [
    "browser = Browser('chrome', **executable_path, headless=False)\n",
    "get_url = top_cr_headline['headline_url']\n",
    "#     html = requests.get(get_url)\n",
    "#     soup = BeautifulSoup(html.text, 'html.parser')\n",
    "# had to use chromedriver because for some articles, the player names were linked in <a href> but others,\n",
    "# the request would get <forge-entity> that would be converted to <a> after it had already requests.get-ed\n",
    "\n",
    "browser.visit(get_url)\n",
    "html = browser.html\n",
    "soup = BeautifulSoup(html,'html.parser')\n",
    "\n",
    "article_info = []\n",
    "results = soup.select('div.template-article__content div.article-item__body')\n",
    "articlebody_results = results[0].select('p a')\n",
    "for each_name in articlebody_results:\n",
    "    if each_name['href'][:27] == 'https://www.mlb.com/player/':\n",
    "        article_info.append({'player_name':each_name.text, 'player_id':each_name['href'][-6:]})\n",
    "top_cr_headline['players_in_article'] = article_info\n",
    "browser.quit()\n",
    "print(top_cr_headline)"
   ]
  },
  {
   "cell_type": "code",
   "execution_count": 80,
   "metadata": {},
   "outputs": [],
   "source": [
    "db.rockies.drop()"
   ]
  },
  {
   "cell_type": "code",
   "execution_count": 81,
   "metadata": {},
   "outputs": [
    {
     "data": {
      "text/plain": [
       "<pymongo.results.InsertOneResult at 0x2b5560555c8>"
      ]
     },
     "execution_count": 81,
     "metadata": {},
     "output_type": "execute_result"
    }
   ],
   "source": [
    "db.rockies.insert_one(top_cr_headline)"
   ]
  },
  {
   "cell_type": "markdown",
   "metadata": {},
   "source": [
    "# most recent rockies video"
   ]
  },
  {
   "cell_type": "code",
   "execution_count": 10,
   "metadata": {},
   "outputs": [],
   "source": [
    "cr_team_id = 115\n",
    "video_search_url = 'https://www.mlb.com/video/search/tag/teamid-'+str(cr_team_id)\n",
    "browser = Browser('chrome', **executable_path, headless=False)\n",
    "browser.visit(video_search_url)\n",
    "html = browser.html\n",
    "soup = BeautifulSoup(html,'html.parser')\n",
    "\n",
    "results = soup.select('div.video-preview')\n",
    "video_page_url = 'https://www.mlb.com' + results[0].select('a')[0]['href']\n",
    "browser.visit(video_page_url)\n",
    "time.sleep(5)\n",
    "html = browser.html\n",
    "soup2 = BeautifulSoup(html,'html.parser')\n",
    "video_result = {}\n",
    "video_wrapper = soup2.select('div#video-section__wrapper meta')\n",
    "for each_meta in video_wrapper:\n",
    "    if each_meta['itemprop'] == 'name':\n",
    "        video_result['name'] = each_meta['content']\n",
    "    elif each_meta['itemprop'] == \"contentURL\":\n",
    "        video_result['url'] = each_meta['content']\n",
    "    elif each_meta['itemprop'] == \"description\":\n",
    "        video_result['desc'] = each_meta['content']\n",
    "print(video_result)\n",
    "browser.quit()"
   ]
  },
  {
   "cell_type": "code",
   "execution_count": 13,
   "metadata": {},
   "outputs": [
    {
     "name": "stdout",
     "output_type": "stream",
     "text": [
      "{'name': \"Murphy's game-tying RBI groundout\", 'desc': 'Daniel Murphy grounds out to second, but is able to score Charlie Blackmon to tie the game at 5 in the top of the 7th inning', 'url': 'https://cuts.diamond.mlb.com/FORGE/2019/2019-05/15/4a0e7f66-07b7954a-7af88a56-csvm-diamondx64-asset_1280x720_59_4000K.mp4'}\n"
     ]
    }
   ],
   "source": [
    "cr_team_id = 115\n",
    "video_search_url = 'https://www.mlb.com/video/search/tag/teamid-'+str(cr_team_id)\n",
    "browser = Browser('chrome', **executable_path, headless=False)\n",
    "browser.visit(video_search_url)\n",
    "\n",
    "while True:\n",
    "    html = browser.html\n",
    "    soup = BeautifulSoup(html,'html.parser')\n",
    "    try:\n",
    "        results = soup.select('div.video-preview')\n",
    "        break\n",
    "    except:\n",
    "        time.sleep(0.5)\n",
    "\n",
    "video_page_url = 'https://www.mlb.com' + results[0].select('a')[0]['href']\n",
    "browser.visit(video_page_url)\n",
    "\n",
    "while True:\n",
    "    html = browser.html\n",
    "    soup2 = BeautifulSoup(html,'html.parser')\n",
    "    try:\n",
    "        video_wrapper = soup2.select('div#video-section__wrapper meta')\n",
    "        break\n",
    "    except:\n",
    "        time.sleep(0.5)\n",
    "\n",
    "video_result = {}\n",
    "\n",
    "for each_meta in video_wrapper:\n",
    "    if each_meta['itemprop'] == 'name':\n",
    "        video_result['name'] = each_meta['content']\n",
    "    elif each_meta['itemprop'] == \"contentURL\":\n",
    "        video_result['url'] = each_meta['content']\n",
    "    elif each_meta['itemprop'] == \"description\":\n",
    "        video_result['desc'] = each_meta['content']\n",
    "print(video_result)\n",
    "browser.quit()"
   ]
  },
  {
   "cell_type": "code",
   "execution_count": 12,
   "metadata": {},
   "outputs": [
    {
     "data": {
      "text/plain": [
       "<pymongo.results.InsertOneResult at 0x2b552aeaf08>"
      ]
     },
     "execution_count": 12,
     "metadata": {},
     "output_type": "execute_result"
    }
   ],
   "source": [
    "db.rockies.insert_one(video_result)"
   ]
  },
  {
   "cell_type": "markdown",
   "metadata": {},
   "source": [
    "# most recent video featuring hitting and/or pitching leader using ID?"
   ]
  },
  {
   "cell_type": "code",
   "execution_count": 65,
   "metadata": {},
   "outputs": [
    {
     "name": "stdout",
     "output_type": "stream",
     "text": [
      "518516\n",
      "641355\n",
      "488726\n",
      "466320\n",
      "500874\n",
      "643446\n"
     ]
    }
   ],
   "source": [
    "# top_p = db.top_players.find()\n",
    "# for _ in top_p:\n",
    "#     print(str(int(_['player_id'])))"
   ]
  },
  {
   "cell_type": "code",
   "execution_count": 14,
   "metadata": {},
   "outputs": [
    {
     "name": "stdout",
     "output_type": "stream",
     "text": [
      "{'name': 'Could Bumgarner be traded?', 'desc': \"The guys on MLB Now discuss Madison Bumgarner's no-trade list\", 'url': 'https://cuts.diamond.mlb.com/FORGE/2019/2019-05/13/c651f26e-4b1c5fa1-ea3a17aa-csvm-diamondx64-asset_1280x720_59_4000K.mp4'}\n",
      "{'name': 'Recap: LAD 6, SD 3', 'desc': \"Daily Recap: Joc Pederson cranked his 100th home run and Cody Bellinger added three RBIs, including a two-run jack in the Dodgers' 6-3 win\", 'url': 'https://cuts.diamond.mlb.com/FORGE/2019/2019-05/14/36b7f6e7-9d7b9c79-1749a526-csvm-diamondx64-asset_1280x720_59_4000K.mp4'}\n",
      "{'name': \"Brantley's 2-run single\", 'desc': \"Michael Brantley hits a grounder past Josh Harrison and two runs score, increasing the Astros' lead to 5-0 in the top of the 2nd\", 'url': 'https://cuts.diamond.mlb.com/FORGE/2019/2019-05/14/c2059bca-253be60a-9bce3f72-csvm-diamondx64-asset_1280x720_59_4000K.mp4'}\n",
      "{'name': \"Cabrera's run-scoring single\", 'desc': \"Melky Cabrera lines an RBI single to center field to score Starling Marte and cut the Pirates' deficit to 11-1 in the 9th inning\", 'url': 'https://cuts.diamond.mlb.com/FORGE/2019/2019-05/15/5349dd44-6a7dbdc8-7d061204-csvm-diamondx64-asset_1280x720_59_4000K.mp4'}\n",
      "{'name': \"Martinez's RBI single\", 'desc': \"Jose Martinez slaps a single into center field, scoring Paul Goldschmidt to extend the Cardinals' lead to 4-0 in the 3rd inning\", 'url': 'https://cuts.diamond.mlb.com/FORGE/2019/2019-01/04/910c936b-a160da3a-556f95c3-csvm-diamondx64-asset_1280x720_59_4000K.mp4'}\n",
      "{'name': 'HR solitario de McNeil', 'desc': 'Jeff McNeil conecta un jonrón en el bullpen del jardín derecho', 'url': 'https://cuts.diamond.mlb.com/FORGE/2019/2019-05/10/0d97d0d5-23ddd44b-10bcbfb4-csvm-diamondx64-asset_1280x720_59_4000K.mp4'}\n"
     ]
    }
   ],
   "source": [
    "top_p = db.top_players.find()\n",
    "\n",
    "browser = Browser('chrome', **executable_path, headless=False)\n",
    "\n",
    "for each_top_p in top_p:\n",
    "    player_id = str(int(each_top_p['player_id']))\n",
    "    #all player_ids should be integers, but convert to int to str should fix any issues with\n",
    "    #player_id being stored as a double or a string.\n",
    "    video_search_url = 'https://www.mlb.com/video/search/tag/playerid-'+player_id\n",
    "\n",
    "    browser.visit(video_search_url)\n",
    "\n",
    "    while True:\n",
    "        html = browser.html\n",
    "        soup = BeautifulSoup(html,'html.parser')\n",
    "        try:\n",
    "            results = soup.select('div.video-preview')\n",
    "            break\n",
    "        except:\n",
    "            time.sleep(0.5)\n",
    "\n",
    "    video_page_url = 'https://www.mlb.com' + results[0].select('a')[0]['href']\n",
    "\n",
    "    browser.visit(video_page_url)\n",
    "    \n",
    "    while True:\n",
    "        html = browser.html\n",
    "        soup2 = BeautifulSoup(html,'html.parser')\n",
    "        try:\n",
    "            video_wrapper = soup2.select('div#video-section__wrapper meta')\n",
    "            break\n",
    "        except:\n",
    "            time.sleep(0.5)\n",
    "            \n",
    "    video_result = {}\n",
    "    \n",
    "    for each_meta in video_wrapper:\n",
    "        if each_meta['itemprop'] == 'name':\n",
    "            video_result['name'] = each_meta['content']\n",
    "        elif each_meta['itemprop'] == \"contentURL\":\n",
    "            video_result['url'] = each_meta['content']\n",
    "        elif each_meta['itemprop'] == \"description\":\n",
    "            video_result['desc'] = each_meta['content']\n",
    "    print(video_result)\n",
    "    db.top_players.update_one({'player_id':each_top_p['player_id']},{'$set':video_result})\n",
    "browser.quit()"
   ]
  },
  {
   "cell_type": "markdown",
   "metadata": {},
   "source": [
    "# pull standings from mlb.com/standings"
   ]
  },
  {
   "cell_type": "code",
   "execution_count": 8,
   "metadata": {},
   "outputs": [
    {
     "name": "stdout",
     "output_type": "stream",
     "text": [
      "sleepy\n"
     ]
    }
   ],
   "source": [
    "browser = Browser('chrome', **executable_path, headless=False)\n",
    "browser.visit('https://www.mlb.com/standings')\n",
    "\n",
    "#wait for tables to load\n",
    "while True:\n",
    "    html = browser.html\n",
    "    try:\n",
    "        tables_list = pd.read_html(html)\n",
    "        break\n",
    "    except:\n",
    "        print('sleepy')\n",
    "        time.sleep(0.5)\n",
    "\n",
    "browser.quit()\n",
    "#print(test)"
   ]
  },
  {
   "cell_type": "code",
   "execution_count": 9,
   "metadata": {},
   "outputs": [
    {
     "name": "stdout",
     "output_type": "stream",
     "text": [
      "[  American League EastAL East   W   L    PCT    GB  WCGB  L10 STRK   RS   RA  \\\n",
      "0               E-Tampa BayTB  26  15  0.634     -     -  6-4   W2  185  123   \n",
      "1             E-NY YankeesNYY  26  16  0.619   0.5  +3.5  8-2   W3  208  168   \n",
      "2                 E-BostonBOS  22  20  0.524   4.5   0.5  8-2   L1  224  198   \n",
      "3                E-TorontoTOR  17  25  0.405   9.5   5.5  2-8   L1  151  182   \n",
      "4              E-BaltimoreBAL  14  28  0.333  12.5   8.5  3-7   L2  163  242   \n",
      "\n",
      "   DIFF  X-W/L   HOME   AWAY >.500     Next Game  \n",
      "0    62  28-13  12-10   14-5   8-7  May 17 @ NYY  \n",
      "1    40  25-17   15-9   11-7   6-7  May 17 vs TB  \n",
      "2    26  23-19   11-8  11-12   4-6   Live vs COL  \n",
      "3   -31  17-25   8-13   9-12  5-11  May 16 @ CWS  \n",
      "4   -79  14-28   6-15   8-13  7-19  May 16 @ CLE  ,   American League CentralAL Central   W   L    PCT    GB WCGB  L10 STRK   RS  \\\n",
      "0                    C-MinnesotaMIN  27  15  0.643     -    -  7-3   W2  222   \n",
      "1                    C-ClevelandCLE  22  19  0.537   4.5    -  4-6   W1  150   \n",
      "2                C-Chi White SoxCWS  19  22  0.463   7.5  3.0  5-5   L1  187   \n",
      "3                      C-DetroitDET  18  23  0.439   8.5  4.0  3-7   L3  140   \n",
      "4                   C-Kansas CityKC  15  27  0.357  12.0  7.5  4-6   W1  197   \n",
      "\n",
      "    RA  DIFF  X-W/L   HOME   AWAY >.500      Next Game  \n",
      "0  170    52  26-16   15-8   12-7   8-8   May 16 @ SEA  \n",
      "1  153    -3  20-21   11-7  11-12   4-6  May 16 vs BAL  \n",
      "2  218   -31  18-23   9-11  10-11  7-11  May 16 vs TOR  \n",
      "3  207   -67  13-28   9-11   9-12  8-15  May 16 vs OAK  \n",
      "4  211   -14  20-22  10-13   5-14  9-13    Live vs TEX  ,   American League WestAL West   W   L    PCT    GB WCGB  L10 STRK   RS   RA  \\\n",
      "0                W-HoustonHOU  29  15  0.659     -    -  9-1   W8  245  158   \n",
      "1                W-SeattleSEA  22  23  0.489   7.5  2.0  4-6   W2  240  252   \n",
      "2              W-LA AngelsLAA  20  23  0.465   8.5  3.0  5-5   L2  210  212   \n",
      "3                  W-TexasTEX  17  22  0.436   9.5  4.0  3-7   L5  218  227   \n",
      "4                W-OaklandOAK  19  25  0.432  10.0  4.5  4-6   L3  194  203   \n",
      "\n",
      "   DIFF  X-W/L   HOME   AWAY >.500      Next Game  \n",
      "0    87  30-14   16-4  13-11   9-9   May 17 @ BOS  \n",
      "1   -12  22-23   9-11  13-12  5-19  May 16 vs MIN  \n",
      "2    -2  21-22   11-9   9-14   6-8   May 17 vs KC  \n",
      "3    -9  19-20   12-7   5-15  8-11      Live @ KC  \n",
      "4    -9  21-23  14-10   5-15  7-11   May 16 @ DET  ,   National League EastNL East   W   L    PCT    GB  WCGB  L10 STRK   RS   RA  \\\n",
      "0           E-PhiladelphiaPHI  24  18  0.571     -     -  6-4   L2  212  178   \n",
      "1                E-AtlantaATL  22  21  0.512   2.5   1.5  5-5   W1  203  209   \n",
      "2                E-NY MetsNYM  20  21  0.488   3.5   2.5  4-6   L1  187  202   \n",
      "3             E-WashingtonWSH  17  25  0.405   7.0   6.0  3-7   W1  183  208   \n",
      "4                  E-MiamiMIA  10  31  0.244  13.5  12.5  1-9   L7  105  201   \n",
      "\n",
      "   DIFF  X-W/L   HOME   AWAY  >.500      Next Game  \n",
      "0    34  24-18   15-9    9-9    8-4         vs MIL  \n",
      "1    -6  21-22  11-11  11-10  11-14  May 16 vs STL  \n",
      "2   -15  19-22    9-8  11-13   9-15   May 16 @ WSH  \n",
      "3   -25  19-23   8-12   9-13   9-16  May 16 vs NYM  \n",
      "4   -96  10-31   6-17   4-14   6-20  May 17 vs NYM  ,   National League CentralNL Central   W   L    PCT   GB  WCGB  L10 STRK   RS  \\\n",
      "0                     C-Chi CubsCHC  25  15  0.625    -     -  7-3   L1  214   \n",
      "1                    C-MilwaukeeMIL  26  19  0.578  1.5  +1.5  7-3   W2  214   \n",
      "2                    C-St. LouisSTL  23  20  0.535  3.5   0.5  3-7   L1  220   \n",
      "3                   C-PittsburghPIT  21  19  0.525  4.0   1.0  6-4   L1  148   \n",
      "4                   C-CincinnatiCIN  19  24  0.442  7.5   4.5  5-5   W1  178   \n",
      "\n",
      "    RA  DIFF  X-W/L  HOME   AWAY  >.500      Next Game  \n",
      "0  159    55  25-15  15-6   10-9  14-10   May 16 @ CIN  \n",
      "1  204    10  23-22  16-8  10-11  13-13          @ PHI  \n",
      "2  193    27  24-19  14-9   9-11  15-16   May 16 @ ATL  \n",
      "3  195   -47  15-25   9-9  12-10   5-14    May 16 @ SD  \n",
      "4  149    29  25-18  10-9   9-15   9-17  May 16 vs CHC  ,   National League WestNL West   W   L    PCT   GB WCGB  L10 STRK   RS   RA  \\\n",
      "0             W-LA DodgersLAD  28  16  0.636    -    -  7-3   W2  233  177   \n",
      "1                W-ArizonaARI  24  20  0.545  4.0    -  4-6   W1  227  202   \n",
      "2               W-San DiegoSD  22  20  0.524  5.0  1.0  4-6   L2  165  179   \n",
      "3               W-ColoradoCOL  20  21  0.488  6.5  2.5  6-4   W2  212  216   \n",
      "4           W-San FranciscoSF  18  24  0.429  9.0  5.0  4-6   W1  164  203   \n",
      "\n",
      "   DIFF  X-W/L   HOME   AWAY  >.500     Next Game  \n",
      "0    56  27-17   18-6  10-10  17-11    Live vs SD  \n",
      "1    25  24-20  10-11   14-9  21-18  May 17 vs SF  \n",
      "2   -14  19-23  10-11   12-9    9-9    Live @ LAD  \n",
      "3    -4  20-21   9-11  11-10  14-14    Live @ BOS  \n",
      "4   -39  17-25   9-12   9-12   7-15  May 17 @ ARI  ]\n"
     ]
    }
   ],
   "source": [
    "all_divisions = []\n",
    "for i in range(0,11,2):\n",
    "    all_divisions.append(tables_list[i])\n",
    "print(all_divisions)"
   ]
  },
  {
   "cell_type": "code",
   "execution_count": 15,
   "metadata": {},
   "outputs": [],
   "source": [
    "# al_e_df = pd.read_html(html)[0]\n",
    "# al_c_df = pd.read_html(html)[2]\n",
    "# al_w_df = pd.read_html(html)[4]\n",
    "# nl_e_df = pd.read_html(html)[6]\n",
    "# nl_c_df = pd.read_html(html)[8]\n",
    "# nl_w_df = pd.read_html(html)[10]"
   ]
  },
  {
   "cell_type": "code",
   "execution_count": 10,
   "metadata": {},
   "outputs": [],
   "source": [
    "#all_divisions = [al_e_df,al_c_df,al_w_df,nl_e_df,nl_c_df,nl_w_df]\n",
    "\n",
    "for each_div in all_divisions:\n",
    "    each_div.rename(columns={'>.500':'over500'},inplace=True)\n",
    "\n",
    "#need to rename column name \">.500\" as it breaks later due to the period I think?"
   ]
  },
  {
   "cell_type": "code",
   "execution_count": 11,
   "metadata": {},
   "outputs": [
    {
     "data": {
      "text/html": [
       "<div>\n",
       "<style scoped>\n",
       "    .dataframe tbody tr th:only-of-type {\n",
       "        vertical-align: middle;\n",
       "    }\n",
       "\n",
       "    .dataframe tbody tr th {\n",
       "        vertical-align: top;\n",
       "    }\n",
       "\n",
       "    .dataframe thead th {\n",
       "        text-align: right;\n",
       "    }\n",
       "</style>\n",
       "<table border=\"1\" class=\"dataframe\">\n",
       "  <thead>\n",
       "    <tr style=\"text-align: right;\">\n",
       "      <th></th>\n",
       "      <th>American League EastAL East</th>\n",
       "      <th>W</th>\n",
       "      <th>L</th>\n",
       "      <th>PCT</th>\n",
       "      <th>GB</th>\n",
       "      <th>WCGB</th>\n",
       "      <th>L10</th>\n",
       "      <th>STRK</th>\n",
       "      <th>RS</th>\n",
       "      <th>RA</th>\n",
       "      <th>DIFF</th>\n",
       "      <th>X-W/L</th>\n",
       "      <th>HOME</th>\n",
       "      <th>AWAY</th>\n",
       "      <th>over500</th>\n",
       "      <th>Next Game</th>\n",
       "    </tr>\n",
       "  </thead>\n",
       "  <tbody>\n",
       "    <tr>\n",
       "      <th>0</th>\n",
       "      <td>E-Tampa BayTB</td>\n",
       "      <td>26</td>\n",
       "      <td>15</td>\n",
       "      <td>0.634</td>\n",
       "      <td>-</td>\n",
       "      <td>-</td>\n",
       "      <td>6-4</td>\n",
       "      <td>W2</td>\n",
       "      <td>185</td>\n",
       "      <td>123</td>\n",
       "      <td>62</td>\n",
       "      <td>28-13</td>\n",
       "      <td>12-10</td>\n",
       "      <td>14-5</td>\n",
       "      <td>8-7</td>\n",
       "      <td>May 17 @ NYY</td>\n",
       "    </tr>\n",
       "    <tr>\n",
       "      <th>1</th>\n",
       "      <td>E-NY YankeesNYY</td>\n",
       "      <td>26</td>\n",
       "      <td>16</td>\n",
       "      <td>0.619</td>\n",
       "      <td>0.5</td>\n",
       "      <td>+3.5</td>\n",
       "      <td>8-2</td>\n",
       "      <td>W3</td>\n",
       "      <td>208</td>\n",
       "      <td>168</td>\n",
       "      <td>40</td>\n",
       "      <td>25-17</td>\n",
       "      <td>15-9</td>\n",
       "      <td>11-7</td>\n",
       "      <td>6-7</td>\n",
       "      <td>May 17 vs TB</td>\n",
       "    </tr>\n",
       "    <tr>\n",
       "      <th>2</th>\n",
       "      <td>E-BostonBOS</td>\n",
       "      <td>22</td>\n",
       "      <td>20</td>\n",
       "      <td>0.524</td>\n",
       "      <td>4.5</td>\n",
       "      <td>0.5</td>\n",
       "      <td>8-2</td>\n",
       "      <td>L1</td>\n",
       "      <td>224</td>\n",
       "      <td>198</td>\n",
       "      <td>26</td>\n",
       "      <td>23-19</td>\n",
       "      <td>11-8</td>\n",
       "      <td>11-12</td>\n",
       "      <td>4-6</td>\n",
       "      <td>Live vs COL</td>\n",
       "    </tr>\n",
       "    <tr>\n",
       "      <th>3</th>\n",
       "      <td>E-TorontoTOR</td>\n",
       "      <td>17</td>\n",
       "      <td>25</td>\n",
       "      <td>0.405</td>\n",
       "      <td>9.5</td>\n",
       "      <td>5.5</td>\n",
       "      <td>2-8</td>\n",
       "      <td>L1</td>\n",
       "      <td>151</td>\n",
       "      <td>182</td>\n",
       "      <td>-31</td>\n",
       "      <td>17-25</td>\n",
       "      <td>8-13</td>\n",
       "      <td>9-12</td>\n",
       "      <td>5-11</td>\n",
       "      <td>May 16 @ CWS</td>\n",
       "    </tr>\n",
       "    <tr>\n",
       "      <th>4</th>\n",
       "      <td>E-BaltimoreBAL</td>\n",
       "      <td>14</td>\n",
       "      <td>28</td>\n",
       "      <td>0.333</td>\n",
       "      <td>12.5</td>\n",
       "      <td>8.5</td>\n",
       "      <td>3-7</td>\n",
       "      <td>L2</td>\n",
       "      <td>163</td>\n",
       "      <td>242</td>\n",
       "      <td>-79</td>\n",
       "      <td>14-28</td>\n",
       "      <td>6-15</td>\n",
       "      <td>8-13</td>\n",
       "      <td>7-19</td>\n",
       "      <td>May 16 @ CLE</td>\n",
       "    </tr>\n",
       "  </tbody>\n",
       "</table>\n",
       "</div>"
      ],
      "text/plain": [
       "  American League EastAL East   W   L    PCT    GB  WCGB  L10 STRK   RS   RA  \\\n",
       "0               E-Tampa BayTB  26  15  0.634     -     -  6-4   W2  185  123   \n",
       "1             E-NY YankeesNYY  26  16  0.619   0.5  +3.5  8-2   W3  208  168   \n",
       "2                 E-BostonBOS  22  20  0.524   4.5   0.5  8-2   L1  224  198   \n",
       "3                E-TorontoTOR  17  25  0.405   9.5   5.5  2-8   L1  151  182   \n",
       "4              E-BaltimoreBAL  14  28  0.333  12.5   8.5  3-7   L2  163  242   \n",
       "\n",
       "   DIFF  X-W/L   HOME   AWAY over500     Next Game  \n",
       "0    62  28-13  12-10   14-5     8-7  May 17 @ NYY  \n",
       "1    40  25-17   15-9   11-7     6-7  May 17 vs TB  \n",
       "2    26  23-19   11-8  11-12     4-6   Live vs COL  \n",
       "3   -31  17-25   8-13   9-12    5-11  May 16 @ CWS  \n",
       "4   -79  14-28   6-15   8-13    7-19  May 16 @ CLE  "
      ]
     },
     "execution_count": 11,
     "metadata": {},
     "output_type": "execute_result"
    }
   ],
   "source": [
    "all_divisions[0].head()"
   ]
  },
  {
   "cell_type": "code",
   "execution_count": 12,
   "metadata": {},
   "outputs": [],
   "source": [
    "#clear standings collection before writing, as duplicate old records are not relevant\n",
    "db.standings.drop()\n",
    "\n",
    "for each_division in all_divisions:\n",
    "    data = each_division.to_dict(orient='records')\n",
    "    #print(data)\n",
    "    db.standings.insert_many(data)\n",
    "    #print('--'*12)"
   ]
  },
  {
   "cell_type": "code",
   "execution_count": 38,
   "metadata": {},
   "outputs": [
    {
     "name": "stdout",
     "output_type": "stream",
     "text": [
      "[{'National League WestNL West': 'W-LA DodgersLAD', 'W': 28, 'L': 16, 'PCT': 0.636, 'GB': '-', 'WCGB': '-', 'L10': '7-3', 'STRK': 'W2', 'RS': 233, 'RA': 177, 'DIFF': 56, 'X-W/L': '27-17', 'HOME': '18-6', 'AWAY': '10-10', 'over500': '17-11', 'Next Game': 'Live vs SD', '_id': ObjectId('5cdcce43e52843311c721482')}, {'National League WestNL West': 'W-ArizonaARI', 'W': 24, 'L': 20, 'PCT': 0.545, 'GB': '4.0', 'WCGB': '-', 'L10': '4-6', 'STRK': 'W1', 'RS': 227, 'RA': 202, 'DIFF': 25, 'X-W/L': '24-20', 'HOME': '10-11', 'AWAY': '14-9', 'over500': '21-18', 'Next Game': 'May 17 vs SF', '_id': ObjectId('5cdcce43e52843311c721483')}, {'National League WestNL West': 'W-San DiegoSD', 'W': 22, 'L': 20, 'PCT': 0.524, 'GB': '5.0', 'WCGB': '1.0', 'L10': '4-6', 'STRK': 'L2', 'RS': 165, 'RA': 179, 'DIFF': -14, 'X-W/L': '19-23', 'HOME': '10-11', 'AWAY': '12-9', 'over500': '9-9', 'Next Game': 'Live @ LAD', '_id': ObjectId('5cdcce43e52843311c721484')}, {'National League WestNL West': 'W-ColoradoCOL', 'W': 20, 'L': 21, 'PCT': 0.488, 'GB': '6.5', 'WCGB': '2.5', 'L10': '6-4', 'STRK': 'W2', 'RS': 212, 'RA': 216, 'DIFF': -4, 'X-W/L': '20-21', 'HOME': '9-11', 'AWAY': '11-10', 'over500': '14-14', 'Next Game': 'Live @ BOS', '_id': ObjectId('5cdcce43e52843311c721485')}, {'National League WestNL West': 'W-San FranciscoSF', 'W': 18, 'L': 24, 'PCT': 0.429, 'GB': '9.0', 'WCGB': '5.0', 'L10': '4-6', 'STRK': 'W1', 'RS': 164, 'RA': 203, 'DIFF': -39, 'X-W/L': '17-25', 'HOME': '9-12', 'AWAY': '9-12', 'over500': '7-15', 'Next Game': 'May 17 @ ARI', '_id': ObjectId('5cdcce43e52843311c721486')}]\n"
     ]
    }
   ],
   "source": [
    "print(data)"
   ]
  },
  {
   "cell_type": "code",
   "execution_count": null,
   "metadata": {},
   "outputs": [],
   "source": []
  },
  {
   "cell_type": "code",
   "execution_count": null,
   "metadata": {},
   "outputs": [],
   "source": []
  },
  {
   "cell_type": "code",
   "execution_count": null,
   "metadata": {},
   "outputs": [],
   "source": []
  },
  {
   "cell_type": "code",
   "execution_count": null,
   "metadata": {},
   "outputs": [],
   "source": []
  }
 ],
 "metadata": {
  "kernelspec": {
   "display_name": "Python 3",
   "language": "python",
   "name": "python3"
  },
  "language_info": {
   "codemirror_mode": {
    "name": "ipython",
    "version": 3
   },
   "file_extension": ".py",
   "mimetype": "text/x-python",
   "name": "python",
   "nbconvert_exporter": "python",
   "pygments_lexer": "ipython3",
   "version": "3.7.1"
  }
 },
 "nbformat": 4,
 "nbformat_minor": 2
}
