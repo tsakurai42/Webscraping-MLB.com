{
 "cells": [
  {
   "cell_type": "code",
   "execution_count": 1,
   "metadata": {},
   "outputs": [],
   "source": [
    "import pandas as pd\n",
    "import sqlalchemy\n",
    "import requests\n",
    "from bs4 import BeautifulSoup\n",
    "from splinter import Browser\n",
    "import time\n",
    "\n",
    "executable_path = {'executable_path': 'chromedriver.exe'}"
   ]
  },
  {
   "cell_type": "code",
   "execution_count": 27,
   "metadata": {},
   "outputs": [],
   "source": [
    "get_url = 'https://www.mlb.com/'\n",
    "html = requests.get(get_url)\n",
    "soup = BeautifulSoup(html.text, 'html.parser')\n",
    "#soup.prettify()"
   ]
  },
  {
   "cell_type": "markdown",
   "metadata": {},
   "source": [
    "# top headlines on mlb.com"
   ]
  },
  {
   "cell_type": "code",
   "execution_count": 28,
   "metadata": {},
   "outputs": [
    {
     "name": "stdout",
     "output_type": "stream",
     "text": [
      "[{'headline': \"Making sense of Bumgarner's no-trade list\", 'headline_url': 'https://www.mlb.com/news/madison-bumgarner-no-trade-list'}, {'headline': 'Shoulder strain keeping Stanton sidelined', 'headline_url': 'https://www.mlb.com/news/giancarlo-stanton-injured-shoulder-strain'}, {'headline': 'Paddack-Kershaw comparison favors the rookie', 'headline_url': 'https://www.mlb.com/news/clayton-kershaw-chris-paddack-face-off'}, {'headline': '9 relievers who could be dealt this summer', 'headline_url': 'https://www.mlb.com/news/relief-pitchers-who-could-be-traded'}, {'headline': '1st Cy Young poll has some surprises at top', 'headline_url': 'https://www.mlb.com/news/2019-cy-young-award-poll-leaders'}, {'headline': \"He's a No. 1 overall pick ... and playing like it\", 'headline_url': 'https://www.mlb.com/news/dansby-swanson-is-fulfilling-his-potential'}, {'headline': \"What to expect from Brewers' Hiura in bigs\", 'headline_url': 'https://www.mlb.com/news/brewers-top-prospect-keston-hiura-called-up'}, {'headline': 'Back on IL, Andujar mulls surgery after MRI', 'headline_url': 'https://www.mlb.com/news/miguel-andujar-injured-list-return-discussed'}, {'headline': \"O's-Yankees rained out for second straight day\", 'headline_url': 'https://www.mlb.com/news/orioles-yankees-may-14-game-postponed'}, {'headline': 'GM Hahn: Tatis deal made club think long term', 'headline_url': 'https://www.mlb.com/news/rick-hahn-looks-back-on-trade-of-fernando-tatis-jr'}, {'headline': 'Tribe slugs 5 HRs vs. White Sox; Luplow with 2', 'headline_url': 'https://www.mlb.com/news/jordan-luplow-homers-twice-indians-with-5'}]\n"
     ]
    }
   ],
   "source": [
    "top_headlines = []\n",
    "results = soup.select('div.l-grid div.p-headline-stack')\n",
    "for result in results[3].select('li.p-headline-stack__headline'):\n",
    "#     print(result.text)\n",
    "#     print(result.a['href'])\n",
    "#     print('-'*12)\n",
    "    top_headlines.append({'headline':result.text, 'headline_url':result.a['href']})\n",
    "print(top_headlines)"
   ]
  },
  {
   "cell_type": "markdown",
   "metadata": {},
   "source": [
    "# parse top headline articles and pull player names and IDs and add to prior dictionary"
   ]
  },
  {
   "cell_type": "code",
   "execution_count": 64,
   "metadata": {},
   "outputs": [
    {
     "name": "stdout",
     "output_type": "stream",
     "text": [
      "[{'headline': \"Making sense of Bumgarner's no-trade list\", 'headline_url': 'https://www.mlb.com/news/madison-bumgarner-no-trade-list', 'article_names': [{'player_name': 'Madison Bumgarner', 'player_id': '518516'}]}, {'headline': 'Shoulder strain keeping Stanton sidelined', 'headline_url': 'https://www.mlb.com/news/giancarlo-stanton-injured-shoulder-strain', 'article_names': [{'player_name': 'Giancarlo Stanton', 'player_id': '519317'}]}, {'headline': 'Paddack-Kershaw comparison favors the rookie', 'headline_url': 'https://www.mlb.com/news/clayton-kershaw-chris-paddack-face-off', 'article_names': [{'player_name': 'Chris Paddack', 'player_id': '663978'}, {'player_name': 'Clayton Kershaw', 'player_id': '477132'}]}, {'headline': '9 relievers who could be dealt this summer', 'headline_url': 'https://www.mlb.com/news/relief-pitchers-who-could-be-traded', 'article_names': [{'player_name': 'Mychal Givens', 'player_id': '571710'}, {'player_name': 'Ian Kennedy', 'player_id': '453178'}, {'player_name': 'Francisco Liriano', 'player_id': '434538'}, {'player_name': 'Aroldis Chapman', 'player_id': '547973'}, {'player_name': 'Ty Buttrey', 'player_id': '621142'}, {'player_name': 'Ian Kinsler', 'player_id': '435079'}, {'player_name': 'Ian Kennedy', 'player_id': '453178'}, {'player_name': 'Francisco Liriano', 'player_id': '434538'}, {'player_name': 'Mychal Givens', 'player_id': '571710'}, {'player_name': 'Kelvin Herrera', 'player_id': '516969'}, {'player_name': 'Shawn Kelley', 'player_id': '518875'}, {'player_name': 'Lou Trivino', 'player_id': '642152'}, {'player_name': 'Ken Giles', 'player_id': '571704'}, {'player_name': 'David Hernandez', 'player_id': '456696'}]}, {'headline': '1st Cy Young poll has some surprises at top', 'headline_url': 'https://www.mlb.com/news/2019-cy-young-award-poll-leaders', 'article_names': [{'player_name': 'Justin Verlander', 'player_id': '434378'}, {'player_name': 'Luis Castillo', 'player_id': '622491'}, {'player_name': 'Chris Paddack', 'player_id': '663978'}, {'player_name': 'Hyun-Jin Ryu', 'player_id': '547943'}, {'player_name': 'Matthew Boyd', 'player_id': '571510'}, {'player_name': 'Gerrit Cole', 'player_id': '543037'}, {'player_name': 'Jake Odorizzi', 'player_id': '543606'}, {'player_name': 'Jose Berrios', 'player_id': '621244'}, {'player_name': 'Tyler Glasnow', 'player_id': '607192'}, {'player_name': 'Charlie Morton', 'player_id': '450203'}, {'player_name': 'Domingo German', 'player_id': '593334'}, {'player_name': 'Mike Minor', 'player_id': '501985'}, {'player_name': 'Max Scherzer', 'player_id': '453286'}, {'player_name': 'Caleb Smith', 'player_id': '592761'}, {'player_name': 'Zack Greinke', 'player_id': '425844'}, {'player_name': 'Zach Davies', 'player_id': '605200'}, {'player_name': 'Jon Lester', 'player_id': '452657'}]}, {'headline': \"He's a No. 1 overall pick ... and playing like it\", 'headline_url': 'https://www.mlb.com/news/dansby-swanson-is-fulfilling-his-potential', 'article_names': [{'player_name': 'Dansby Swanson', 'player_id': '621020'}]}, {'headline': \"What to expect from Brewers' Hiura in bigs\", 'headline_url': 'https://www.mlb.com/news/brewers-top-prospect-keston-hiura-called-up', 'article_names': []}, {'headline': 'Back on IL, Andujar mulls surgery after MRI', 'headline_url': 'https://www.mlb.com/news/miguel-andujar-injured-list-return-discussed', 'article_names': [{'player_name': 'Miguel Andújar', 'player_id': '609280'}, {'player_name': 'Gio Urshela', 'player_id': '570482'}, {'player_name': 'James Paxton', 'player_id': '572020'}, {'player_name': 'Aaron Judge', 'player_id': '592450'}]}, {'headline': \"O's-Yankees rained out for second straight day\", 'headline_url': 'https://www.mlb.com/news/orioles-yankees-may-14-game-postponed', 'article_names': [{'player_name': 'J.A. Happ', 'player_id': '457918'}, {'player_name': 'David Hess', 'player_id': '605276'}, {'player_name': 'Domingo Germán', 'player_id': '593334'}, {'player_name': 'Andrew Cashner', 'player_id': '488768'}]}, {'headline': 'GM Hahn: Tatis deal made club think long term', 'headline_url': 'https://www.mlb.com/news/rick-hahn-looks-back-on-trade-of-fernando-tatis-jr', 'article_names': [{'player_name': 'Fernando Tatis Jr.', 'player_id': '665487'}, {'player_name': 'James Shields', 'player_id': '448306'}]}, {'headline': 'Tribe slugs 5 HRs vs. White Sox; Luplow with 2', 'headline_url': 'https://www.mlb.com/news/jordan-luplow-homers-twice-indians-with-5', 'article_names': []}]\n"
     ]
    }
   ],
   "source": [
    "browser = Browser('chrome', **executable_path, headless=False)\n",
    "i = 0\n",
    "for each_article in top_headlines:\n",
    "    get_url = each_article['headline_url']\n",
    "#     html = requests.get(get_url)\n",
    "#     soup = BeautifulSoup(html.text, 'html.parser')\n",
    "# had to use chromedriver because for some articles, the player names were linked in <a href> but others,\n",
    "# the request would get <forge-entity> that would be converted to <a> after it had already requests.get-ed\n",
    "    \n",
    "    browser.visit(get_url)\n",
    "    #time.sleep(2)\n",
    "    html = browser.html\n",
    "    soup = BeautifulSoup(html,'html.parser')\n",
    "    \n",
    "    article_info = []\n",
    "    results = soup.select('div.template-article__content div.article-item__body')\n",
    "    articlebody_results = results[0].select('p a')\n",
    "    for each_name in articlebody_results:\n",
    "        #print(f\"{each_name.text} with player ID {each_name['slug'][-6:]}\")\n",
    "        if each_name['href'][:27] == 'https://www.mlb.com/player/':\n",
    "            article_info.append({'player_name':each_name.text, 'player_id':each_name['href'][-6:]})\n",
    "    #print(article_info)\n",
    "    top_headlines[i]['article_names'] = article_info\n",
    "    i += 1\n",
    "browser.quit()\n",
    "print(top_headlines)"
   ]
  },
  {
   "cell_type": "markdown",
   "metadata": {},
   "source": [
    "# top most rockies headline, URL, referenced player names and IDs"
   ]
  },
  {
   "cell_type": "code",
   "execution_count": 73,
   "metadata": {},
   "outputs": [
    {
     "name": "stdout",
     "output_type": "stream",
     "text": [
      "{'headline': 'Valaika called up; surgery possible for Anderson', 'headline_url': 'https://www.mlb.com/rockies/news/pat-valaika-called-up-tyler-anderson-knee-decision'}\n"
     ]
    }
   ],
   "source": [
    "get_url = 'https://www.mlb.com/rockies'\n",
    "html = requests.get(get_url)\n",
    "soup = BeautifulSoup(html.text, 'html.parser')\n",
    "#top_cr_headline = []\n",
    "results = soup.select('div.l-grid div.p-headline-stack')\n",
    "top_result = results[3].select('li.p-headline-stack__headline')[0]\n",
    "top_cr_headline = {'headline':top_result.text.strip(), 'headline_url':top_result.a['href']}\n",
    "print(top_cr_headline)"
   ]
  },
  {
   "cell_type": "code",
   "execution_count": 74,
   "metadata": {},
   "outputs": [
    {
     "name": "stdout",
     "output_type": "stream",
     "text": [
      "{'headline': 'Valaika called up; surgery possible for Anderson', 'headline_url': 'https://www.mlb.com/rockies/news/pat-valaika-called-up-tyler-anderson-knee-decision', 'article_names': [{'player_name': 'Pat Valaika', 'player_id': '642162'}, {'player_name': 'Garrett Hampson', 'player_id': '641658'}, {'player_name': 'Tyler Anderson', 'player_id': '542881'}]}\n"
     ]
    }
   ],
   "source": [
    "browser = Browser('chrome', **executable_path, headless=False)\n",
    "get_url = top_cr_headline['headline_url']\n",
    "#     html = requests.get(get_url)\n",
    "#     soup = BeautifulSoup(html.text, 'html.parser')\n",
    "# had to use chromedriver because for some articles, the player names were linked in <a href> but others,\n",
    "# the request would get <forge-entity> that would be converted to <a> after it had already requests.get-ed\n",
    "\n",
    "browser.visit(get_url)\n",
    "html = browser.html\n",
    "soup = BeautifulSoup(html,'html.parser')\n",
    "\n",
    "article_info = []\n",
    "results = soup.select('div.template-article__content div.article-item__body')\n",
    "articlebody_results = results[0].select('p a')\n",
    "for each_name in articlebody_results:\n",
    "    if each_name['href'][:27] == 'https://www.mlb.com/player/':\n",
    "        article_info.append({'player_name':each_name.text, 'player_id':each_name['href'][-6:]})\n",
    "top_cr_headline['article_names'] = article_info\n",
    "browser.quit()\n",
    "print(top_cr_headline)"
   ]
  },
  {
   "cell_type": "markdown",
   "metadata": {},
   "source": [
    "# most recent rockies video"
   ]
  },
  {
   "cell_type": "code",
   "execution_count": 94,
   "metadata": {},
   "outputs": [],
   "source": [
    "cr_team_id = 115\n",
    "video_search_url = 'https://www.mlb.com/video/search/tag/teamid-'+str(cr_team_id)\n",
    "browser = Browser('chrome', **executable_path, headless=False)\n",
    "browser.visit(video_search_url)\n",
    "html = browser.html\n",
    "soup = BeautifulSoup(html,'html.parser')"
   ]
  },
  {
   "cell_type": "code",
   "execution_count": 102,
   "metadata": {},
   "outputs": [
    {
     "name": "stdout",
     "output_type": "stream",
     "text": [
      "{'name': \"Blackmon discusses Rockies in '19\", 'desc': \"Rockies outfielder Charlie Blackmon talks about the club's season so far in 2019\", 'url': 'https://cuts.diamond.mlb.com/FORGE/2019/2019-05/14/1016a9a3-763d632f-078c4081-csvm-diamondx64-asset_1280x720_59_4000K.mp4'}\n"
     ]
    }
   ],
   "source": [
    "results = soup.select('div.video-preview')\n",
    "video_page_url = 'https://www.mlb.com' + results[0].select('a')[0]['href']\n",
    "browser.visit(video_page_url)\n",
    "time.sleep(5)\n",
    "html = browser.html\n",
    "soup2 = BeautifulSoup(html,'html.parser')\n",
    "video_result = {}\n",
    "video_wrapper = soup2.select('div#video-section__wrapper meta')\n",
    "for each_meta in video_wrapper:\n",
    "    if each_meta['itemprop'] == 'name':\n",
    "        video_result['name'] = each_meta['content']\n",
    "    elif each_meta['itemprop'] == \"contentURL\":\n",
    "        video_result['url'] = each_meta['content']\n",
    "    elif each_meta['itemprop'] == \"description\":\n",
    "        video_result['desc'] = each_meta['content']\n",
    "print(video_result)\n",
    "browser.quit()"
   ]
  },
  {
   "cell_type": "markdown",
   "metadata": {},
   "source": [
    "# most recent video featuring hitting and/or pitching leader using ID?"
   ]
  },
  {
   "cell_type": "code",
   "execution_count": 103,
   "metadata": {},
   "outputs": [
    {
     "name": "stdout",
     "output_type": "stream",
     "text": [
      "{'name': 'Could Bumgarner be traded?', 'desc': \"The guys on MLB Now discuss Madison Bumgarner's no-trade list\", 'url': 'https://cuts.diamond.mlb.com/FORGE/2019/2019-05/13/c651f26e-4b1c5fa1-ea3a17aa-csvm-diamondx64-asset_1280x720_59_4000K.mp4'}\n"
     ]
    }
   ],
   "source": [
    "player_id = 518516 #using madison bumgarner right now, can do a list and throw this all in a for loop\n",
    "\n",
    "video_search_url = 'https://www.mlb.com/video/search/tag/playerid-'+str(player_id)\n",
    "\n",
    "browser = Browser('chrome', **executable_path, headless=False)\n",
    "browser.visit(video_search_url)\n",
    "html = browser.html\n",
    "soup = BeautifulSoup(html,'html.parser')\n",
    "results = soup.select('div.video-preview')\n",
    "video_page_url = 'https://www.mlb.com' + results[0].select('a')[0]['href']\n",
    "browser.visit(video_page_url)\n",
    "time.sleep(5)\n",
    "html = browser.html\n",
    "soup2 = BeautifulSoup(html,'html.parser')\n",
    "video_result = {}\n",
    "video_wrapper = soup2.select('div#video-section__wrapper meta')\n",
    "for each_meta in video_wrapper:\n",
    "    if each_meta['itemprop'] == 'name':\n",
    "        video_result['name'] = each_meta['content']\n",
    "    elif each_meta['itemprop'] == \"contentURL\":\n",
    "        video_result['url'] = each_meta['content']\n",
    "    elif each_meta['itemprop'] == \"description\":\n",
    "        video_result['desc'] = each_meta['content']\n",
    "print(video_result)\n",
    "browser.quit()"
   ]
  },
  {
   "cell_type": "markdown",
   "metadata": {},
   "source": [
    "# pull standings from mlb.com/standings"
   ]
  },
  {
   "cell_type": "code",
   "execution_count": 107,
   "metadata": {},
   "outputs": [
    {
     "data": {
      "text/plain": [
       "[  American League EastAL East   W   L    PCT    GB  WCGB  L10 STRK   RS   RA  \\\n",
       " 0               E-Tampa BayTB  24  15  0.615     -     -  5-5   L1  180  123   \n",
       " 1             E-NY YankeesNYY  24  16  0.600   0.5  +2.5  7-3   W1  200  164   \n",
       " 2                 E-BostonBOS  22  19  0.537   3.0     -  8-2   W5  220  193   \n",
       " 3                E-TorontoTOR  16  24  0.400   8.5   5.5  2-8   L2  141  175   \n",
       " 4              E-BaltimoreBAL  14  26  0.350  10.5   7.5  4-6   W1  159  234   \n",
       " \n",
       "    DIFF  X-W/L   HOME   AWAY >.500      Next Game  \n",
       " 0    57  26-13  12-10   12-5   8-7     Live @ MIA  \n",
       " 1    36  24-16   13-9   11-7   6-7  May 15 vs BAL  \n",
       " 2    27  23-18   11-7  11-12   4-6    Live vs COL  \n",
       " 3   -34  16-24   8-13   8-11  5-11    May 14 @ SF  \n",
       " 4   -75  13-27   6-15   8-11  7-17   May 15 @ NYY  ,\n",
       "   American League EastAL East   W   L    PCT    GB  WCGB  L10 STRK   RS   RA  \\\n",
       " 0               E-Tampa BayTB  24  15  0.615     -     -  5-5   L1  180  123   \n",
       " 1             E-NY YankeesNYY  24  16  0.600   0.5  +2.5  7-3   W1  200  164   \n",
       " 2                 E-BostonBOS  22  19  0.537   3.0     -  8-2   W5  220  193   \n",
       " 3                E-TorontoTOR  16  24  0.400   8.5   5.5  2-8   L2  141  175   \n",
       " 4              E-BaltimoreBAL  14  26  0.350  10.5   7.5  4-6   W1  159  234   \n",
       " \n",
       "    DIFF  X-W/L   HOME   AWAY >.500      Next Game  \n",
       " 0    57  26-13  12-10   12-5   8-7     Live @ MIA  \n",
       " 1    36  24-16   13-9   11-7   6-7  May 15 vs BAL  \n",
       " 2    27  23-18   11-7  11-12   4-6    Live vs COL  \n",
       " 3   -34  16-24   8-13   8-11  5-11    May 14 @ SF  \n",
       " 4   -75  13-27   6-15   8-11  7-17   May 15 @ NYY  ,\n",
       "   American League CentralAL Central   W   L    PCT    GB WCGB  L10 STRK   RS  \\\n",
       " 0                    C-MinnesotaMIN  25  15  0.625     -    -  6-4   L2  210   \n",
       " 1                    C-ClevelandCLE  22  19  0.537   3.5    -  4-6   W1  150   \n",
       " 2                C-Chi White SoxCWS  19  22  0.463   6.5  3.0  5-5   L1  187   \n",
       " 3                      C-DetroitDET  18  21  0.462   6.5  3.0  4-6   L1  135   \n",
       " 4                   C-Kansas CityKC  14  27  0.341  11.5  8.0  3-7   L2  186   \n",
       " \n",
       "     RA  DIFF  X-W/L  HOME   AWAY >.500      Next Game  \n",
       " 0  160    50  25-15  13-8   12-7   8-8    Live vs LAA  \n",
       " 1  153    -3  20-21  11-7  11-12   4-6  May 16 vs BAL  \n",
       " 2  218   -31  18-23  9-11  10-11  7-11  May 16 vs TOR  \n",
       " 3  191   -56  14-25   9-9   9-12  8-13    Live vs HOU  \n",
       " 4  206   -20  19-22  9-13   5-14  9-13  May 14 vs TEX  ,\n",
       "   American League CentralAL Central   W   L    PCT    GB WCGB  L10 STRK   RS  \\\n",
       " 0                    C-MinnesotaMIN  25  15  0.625     -    -  6-4   L2  210   \n",
       " 1                    C-ClevelandCLE  22  19  0.537   3.5    -  4-6   W1  150   \n",
       " 2                C-Chi White SoxCWS  19  22  0.463   6.5  3.0  5-5   L1  187   \n",
       " 3                      C-DetroitDET  18  21  0.462   6.5  3.0  4-6   L1  135   \n",
       " 4                   C-Kansas CityKC  14  27  0.341  11.5  8.0  3-7   L2  186   \n",
       " \n",
       "     RA  DIFF  X-W/L  HOME   AWAY >.500      Next Game  \n",
       " 0  160    50  25-15  13-8   12-7   8-8    Live vs LAA  \n",
       " 1  153    -3  20-21  11-7  11-12   4-6  May 16 vs BAL  \n",
       " 2  218   -31  18-23  9-11  10-11  7-11  May 16 vs TOR  \n",
       " 3  191   -56  14-25   9-9   9-12  8-13    Live vs HOU  \n",
       " 4  206   -20  19-22  9-13   5-14  9-13  May 14 vs TEX  ,\n",
       "   American League WestAL West   W   L    PCT   GB WCGB  L10 STRK   RS   RA  \\\n",
       " 0                W-HoustonHOU  27  15  0.643    -    -  9-1   W6  229  153   \n",
       " 1              W-LA AngelsLAA  20  21  0.488  6.5  2.0  6-4   W1  200  200   \n",
       " 2                W-SeattleSEA  21  23  0.477  7.0  2.5  3-7   W1  236  249   \n",
       " 3                  W-TexasTEX  17  21  0.447  8.0  3.5  3-7   L4  213  216   \n",
       " 4                W-OaklandOAK  19  24  0.442  8.5  4.0  5-5   L2  191  199   \n",
       " \n",
       "    DIFF  X-W/L   HOME   AWAY >.500      Next Game  \n",
       " 0    76  28-14   16-4  11-11   9-9     Live @ DET  \n",
       " 1     0  21-20   11-9   9-12   6-6     Live @ MIN  \n",
       " 2   -13  21-23   8-11  13-12  5-19  May 14 vs OAK  \n",
       " 3    -3  19-19   12-7   5-14  8-11    May 14 @ KC  \n",
       " 4    -8  21-22  14-10   5-14  7-11   May 14 @ SEA  ,\n",
       "   American League WestAL West   W   L    PCT   GB WCGB  L10 STRK   RS   RA  \\\n",
       " 0                W-HoustonHOU  27  15  0.643    -    -  9-1   W6  229  153   \n",
       " 1              W-LA AngelsLAA  20  21  0.488  6.5  2.0  6-4   W1  200  200   \n",
       " 2                W-SeattleSEA  21  23  0.477  7.0  2.5  3-7   W1  236  249   \n",
       " 3                  W-TexasTEX  17  21  0.447  8.0  3.5  3-7   L4  213  216   \n",
       " 4                W-OaklandOAK  19  24  0.442  8.5  4.0  5-5   L2  191  199   \n",
       " \n",
       "    DIFF  X-W/L   HOME   AWAY >.500      Next Game  \n",
       " 0    76  28-14   16-4  11-11   9-9     Live @ DET  \n",
       " 1     0  21-20   11-9   9-12   6-6     Live @ MIN  \n",
       " 2   -13  21-23   8-11  13-12  5-19  May 14 vs OAK  \n",
       " 3    -3  19-19   12-7   5-14  8-11    May 14 @ KC  \n",
       " 4    -8  21-22  14-10   5-14  7-11   May 14 @ SEA  ,\n",
       "   National League EastNL East   W   L    PCT    GB  WCGB  L10 STRK   RS   RA  \\\n",
       " 0           E-PhiladelphiaPHI  24  16  0.600     -     -  7-3   W3  209  167   \n",
       " 1                E-AtlantaATL  21  20  0.512   3.5   1.5  6-4   W3  196  195   \n",
       " 2                E-NY MetsNYM  19  20  0.487   4.5   2.5  4-6   W2  180  195   \n",
       " 3             E-WashingtonWSH  16  24  0.400   8.0   6.0  3-7   L1  176  201   \n",
       " 4                  E-MiamiMIA  10  29  0.256  13.5  11.5  2-8   L5  105  196   \n",
       " \n",
       "    DIFF  X-W/L   HOME   AWAY  >.500    Next Game  \n",
       " 0    42  24-16   15-7    9-9    8-2  Live vs MIL  \n",
       " 1     1  21-20  10-10  11-10  10-13  Live vs STL  \n",
       " 2   -15  18-21    9-8  10-12   9-15   Live @ WSH  \n",
       " 3   -25  18-22   7-11   9-13   9-16  Live vs NYM  \n",
       " 4   -91   9-30   6-15   4-14   6-18   Live vs TB  ,\n",
       "   National League EastNL East   W   L    PCT    GB  WCGB  L10 STRK   RS   RA  \\\n",
       " 0           E-PhiladelphiaPHI  24  16  0.600     -     -  7-3   W3  209  167   \n",
       " 1                E-AtlantaATL  21  20  0.512   3.5   1.5  6-4   W3  196  195   \n",
       " 2                E-NY MetsNYM  19  20  0.487   4.5   2.5  4-6   W2  180  195   \n",
       " 3             E-WashingtonWSH  16  24  0.400   8.0   6.0  3-7   L1  176  201   \n",
       " 4                  E-MiamiMIA  10  29  0.256  13.5  11.5  2-8   L5  105  196   \n",
       " \n",
       "    DIFF  X-W/L   HOME   AWAY  >.500    Next Game  \n",
       " 0    42  24-16   15-7    9-9    8-2  Live vs MIL  \n",
       " 1     1  21-20  10-10  11-10  10-13  Live vs STL  \n",
       " 2   -15  18-21    9-8  10-12   9-15   Live @ WSH  \n",
       " 3   -25  18-22   7-11   9-13   9-16  Live vs NYM  \n",
       " 4   -91   9-30   6-15   4-14   6-18   Live vs TB  ,\n",
       "   National League CentralNL Central   W   L    PCT   GB  WCGB  L10 STRK   RS  \\\n",
       " 0                     C-Chi CubsCHC  24  14  0.632    -     -  8-2   W2  206   \n",
       " 1                    C-MilwaukeeMIL  24  19  0.558  2.5  +0.5  7-3   L3  203   \n",
       " 2                    C-St. LouisSTL  22  19  0.537  3.5   0.5  2-8   L3  206   \n",
       " 3                   C-PittsburghPIT  20  18  0.526  4.0   1.0  6-4   L1  141   \n",
       " 4                   C-CincinnatiCIN  18  23  0.439  7.5   4.5  5-5   L1  171   \n",
       " \n",
       "     RA  DIFF  X-W/L  HOME  AWAY  >.500     Next Game  \n",
       " 0  152    54  24-14  15-6   9-8  14-10    Live @ CIN  \n",
       " 1  201     2  22-21  16-8  8-11  11-13    Live @ PHI  \n",
       " 2  186    20  22-19  14-9  8-10  14-15    Live @ ATL  \n",
       " 3  182   -41  15-23   9-9  11-9   4-13  May 14 @ ARI  \n",
       " 4  141    30  24-17   9-8  9-15   8-16   Live vs CHC  ,\n",
       "   National League CentralNL Central   W   L    PCT   GB  WCGB  L10 STRK   RS  \\\n",
       " 0                     C-Chi CubsCHC  24  14  0.632    -     -  8-2   W2  206   \n",
       " 1                    C-MilwaukeeMIL  24  19  0.558  2.5  +0.5  7-3   L3  203   \n",
       " 2                    C-St. LouisSTL  22  19  0.537  3.5   0.5  2-8   L3  206   \n",
       " 3                   C-PittsburghPIT  20  18  0.526  4.0   1.0  6-4   L1  141   \n",
       " 4                   C-CincinnatiCIN  18  23  0.439  7.5   4.5  5-5   L1  171   \n",
       " \n",
       "     RA  DIFF  X-W/L  HOME  AWAY  >.500     Next Game  \n",
       " 0  152    54  24-14  15-6   9-8  14-10    Live @ CIN  \n",
       " 1  201     2  22-21  16-8  8-11  11-13    Live @ PHI  \n",
       " 2  186    20  22-19  14-9  8-10  14-15    Live @ ATL  \n",
       " 3  182   -41  15-23   9-9  11-9   4-13  May 14 @ ARI  \n",
       " 4  141    30  24-17   9-8  9-15   8-16   Live vs CHC  ,\n",
       "   National League WestNL West   W   L    PCT   GB WCGB  L10 STRK   RS   RA  \\\n",
       " 0             W-LA DodgersLAD  27  16  0.628    -    -  7-3   W1  227  174   \n",
       " 1                W-ArizonaARI  23  19  0.548  3.5    -  4-6   W1  214  195   \n",
       " 2               W-San DiegoSD  22  19  0.537  4.0  0.5  5-5   L1  162  173   \n",
       " 3               W-ColoradoCOL  19  21  0.475  6.5  3.0  6-4   W1  207  212   \n",
       " 4           W-San FranciscoSF  17  23  0.425  8.5  5.0  5-5   W1  157  193   \n",
       " \n",
       "    DIFF  X-W/L   HOME   AWAY  >.500      Next Game  \n",
       " 0    53  27-16   17-6  10-10  16-11   May 14 vs SD  \n",
       " 1    19  23-19   9-10   14-9  20-17  May 14 vs PIT  \n",
       " 2   -11  19-22  10-11   12-8    9-8   May 14 @ LAD  \n",
       " 3    -5  20-20   9-11  10-10  13-14     Live @ BOS  \n",
       " 4   -36  16-24   8-11   9-12   7-15  May 14 vs TOR  ,\n",
       "   National League WestNL West   W   L    PCT   GB WCGB  L10 STRK   RS   RA  \\\n",
       " 0             W-LA DodgersLAD  27  16  0.628    -    -  7-3   W1  227  174   \n",
       " 1                W-ArizonaARI  23  19  0.548  3.5    -  4-6   W1  214  195   \n",
       " 2               W-San DiegoSD  22  19  0.537  4.0  0.5  5-5   L1  162  173   \n",
       " 3               W-ColoradoCOL  19  21  0.475  6.5  3.0  6-4   W1  207  212   \n",
       " 4           W-San FranciscoSF  17  23  0.425  8.5  5.0  5-5   W1  157  193   \n",
       " \n",
       "    DIFF  X-W/L   HOME   AWAY  >.500      Next Game  \n",
       " 0    53  27-16   17-6  10-10  16-11   May 14 vs SD  \n",
       " 1    19  23-19   9-10   14-9  20-17  May 14 vs PIT  \n",
       " 2   -11  19-22  10-11   12-8    9-8   May 14 @ LAD  \n",
       " 3    -5  20-20   9-11  10-10  13-14     Live @ BOS  \n",
       " 4   -36  16-24   8-11   9-12   7-15  May 14 vs TOR  ]"
      ]
     },
     "execution_count": 107,
     "metadata": {},
     "output_type": "execute_result"
    }
   ],
   "source": [
    "browser = Browser('chrome', **executable_path, headless=False)\n",
    "browser.visit('https://www.mlb.com/standings')\n",
    "time.sleep(3)\n",
    "html = browser.html\n",
    "#tables are created asynchronously so can't just read_html the page\n",
    "browser.quit()"
   ]
  },
  {
   "cell_type": "code",
   "execution_count": 118,
   "metadata": {},
   "outputs": [],
   "source": [
    "al_e_df = pd.read_html(html)[0]\n",
    "al_c_df = pd.read_html(html)[2]\n",
    "al_w_df = pd.read_html(html)[4]\n",
    "nl_e_df = pd.read_html(html)[6]\n",
    "nl_c_df = pd.read_html(html)[8]\n",
    "nl_w_df = pd.read_html(html)[10]"
   ]
  },
  {
   "cell_type": "code",
   "execution_count": 120,
   "metadata": {},
   "outputs": [
    {
     "data": {
      "text/html": [
       "<div>\n",
       "<style scoped>\n",
       "    .dataframe tbody tr th:only-of-type {\n",
       "        vertical-align: middle;\n",
       "    }\n",
       "\n",
       "    .dataframe tbody tr th {\n",
       "        vertical-align: top;\n",
       "    }\n",
       "\n",
       "    .dataframe thead th {\n",
       "        text-align: right;\n",
       "    }\n",
       "</style>\n",
       "<table border=\"1\" class=\"dataframe\">\n",
       "  <thead>\n",
       "    <tr style=\"text-align: right;\">\n",
       "      <th></th>\n",
       "      <th>National League CentralNL Central</th>\n",
       "      <th>W</th>\n",
       "      <th>L</th>\n",
       "      <th>PCT</th>\n",
       "      <th>GB</th>\n",
       "      <th>WCGB</th>\n",
       "      <th>L10</th>\n",
       "      <th>STRK</th>\n",
       "      <th>RS</th>\n",
       "      <th>RA</th>\n",
       "      <th>DIFF</th>\n",
       "      <th>X-W/L</th>\n",
       "      <th>HOME</th>\n",
       "      <th>AWAY</th>\n",
       "      <th>&gt;.500</th>\n",
       "      <th>Next Game</th>\n",
       "    </tr>\n",
       "  </thead>\n",
       "  <tbody>\n",
       "    <tr>\n",
       "      <th>0</th>\n",
       "      <td>C-Chi CubsCHC</td>\n",
       "      <td>24</td>\n",
       "      <td>14</td>\n",
       "      <td>0.632</td>\n",
       "      <td>-</td>\n",
       "      <td>-</td>\n",
       "      <td>8-2</td>\n",
       "      <td>W2</td>\n",
       "      <td>206</td>\n",
       "      <td>152</td>\n",
       "      <td>54</td>\n",
       "      <td>24-14</td>\n",
       "      <td>15-6</td>\n",
       "      <td>9-8</td>\n",
       "      <td>14-10</td>\n",
       "      <td>Live @ CIN</td>\n",
       "    </tr>\n",
       "    <tr>\n",
       "      <th>1</th>\n",
       "      <td>C-MilwaukeeMIL</td>\n",
       "      <td>24</td>\n",
       "      <td>19</td>\n",
       "      <td>0.558</td>\n",
       "      <td>2.5</td>\n",
       "      <td>+0.5</td>\n",
       "      <td>7-3</td>\n",
       "      <td>L3</td>\n",
       "      <td>203</td>\n",
       "      <td>201</td>\n",
       "      <td>2</td>\n",
       "      <td>22-21</td>\n",
       "      <td>16-8</td>\n",
       "      <td>8-11</td>\n",
       "      <td>11-13</td>\n",
       "      <td>Live @ PHI</td>\n",
       "    </tr>\n",
       "    <tr>\n",
       "      <th>2</th>\n",
       "      <td>C-St. LouisSTL</td>\n",
       "      <td>22</td>\n",
       "      <td>19</td>\n",
       "      <td>0.537</td>\n",
       "      <td>3.5</td>\n",
       "      <td>0.5</td>\n",
       "      <td>2-8</td>\n",
       "      <td>L3</td>\n",
       "      <td>206</td>\n",
       "      <td>186</td>\n",
       "      <td>20</td>\n",
       "      <td>22-19</td>\n",
       "      <td>14-9</td>\n",
       "      <td>8-10</td>\n",
       "      <td>14-15</td>\n",
       "      <td>Live @ ATL</td>\n",
       "    </tr>\n",
       "    <tr>\n",
       "      <th>3</th>\n",
       "      <td>C-PittsburghPIT</td>\n",
       "      <td>20</td>\n",
       "      <td>18</td>\n",
       "      <td>0.526</td>\n",
       "      <td>4.0</td>\n",
       "      <td>1.0</td>\n",
       "      <td>6-4</td>\n",
       "      <td>L1</td>\n",
       "      <td>141</td>\n",
       "      <td>182</td>\n",
       "      <td>-41</td>\n",
       "      <td>15-23</td>\n",
       "      <td>9-9</td>\n",
       "      <td>11-9</td>\n",
       "      <td>4-13</td>\n",
       "      <td>May 14 @ ARI</td>\n",
       "    </tr>\n",
       "    <tr>\n",
       "      <th>4</th>\n",
       "      <td>C-CincinnatiCIN</td>\n",
       "      <td>18</td>\n",
       "      <td>23</td>\n",
       "      <td>0.439</td>\n",
       "      <td>7.5</td>\n",
       "      <td>4.5</td>\n",
       "      <td>5-5</td>\n",
       "      <td>L1</td>\n",
       "      <td>171</td>\n",
       "      <td>141</td>\n",
       "      <td>30</td>\n",
       "      <td>24-17</td>\n",
       "      <td>9-8</td>\n",
       "      <td>9-15</td>\n",
       "      <td>8-16</td>\n",
       "      <td>Live vs CHC</td>\n",
       "    </tr>\n",
       "  </tbody>\n",
       "</table>\n",
       "</div>"
      ],
      "text/plain": [
       "  National League CentralNL Central   W   L    PCT   GB  WCGB  L10 STRK   RS  \\\n",
       "0                     C-Chi CubsCHC  24  14  0.632    -     -  8-2   W2  206   \n",
       "1                    C-MilwaukeeMIL  24  19  0.558  2.5  +0.5  7-3   L3  203   \n",
       "2                    C-St. LouisSTL  22  19  0.537  3.5   0.5  2-8   L3  206   \n",
       "3                   C-PittsburghPIT  20  18  0.526  4.0   1.0  6-4   L1  141   \n",
       "4                   C-CincinnatiCIN  18  23  0.439  7.5   4.5  5-5   L1  171   \n",
       "\n",
       "    RA  DIFF  X-W/L  HOME  AWAY  >.500     Next Game  \n",
       "0  152    54  24-14  15-6   9-8  14-10    Live @ CIN  \n",
       "1  201     2  22-21  16-8  8-11  11-13    Live @ PHI  \n",
       "2  186    20  22-19  14-9  8-10  14-15    Live @ ATL  \n",
       "3  182   -41  15-23   9-9  11-9   4-13  May 14 @ ARI  \n",
       "4  141    30  24-17   9-8  9-15   8-16   Live vs CHC  "
      ]
     },
     "execution_count": 120,
     "metadata": {},
     "output_type": "execute_result"
    }
   ],
   "source": []
  },
  {
   "cell_type": "code",
   "execution_count": null,
   "metadata": {},
   "outputs": [],
   "source": []
  }
 ],
 "metadata": {
  "kernelspec": {
   "display_name": "Python 3",
   "language": "python",
   "name": "python3"
  },
  "language_info": {
   "codemirror_mode": {
    "name": "ipython",
    "version": 3
   },
   "file_extension": ".py",
   "mimetype": "text/x-python",
   "name": "python",
   "nbconvert_exporter": "python",
   "pygments_lexer": "ipython3",
   "version": "3.7.1"
  }
 },
 "nbformat": 4,
 "nbformat_minor": 2
}
